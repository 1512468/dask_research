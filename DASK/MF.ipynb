{
 "cells": [
  {
   "cell_type": "code",
   "execution_count": 1,
   "metadata": {},
   "outputs": [],
   "source": [
    "import pandas as pd \n",
    "import numpy as np\n",
    "from sklearn.metrics.pairwise import cosine_similarity\n",
    "from scipy import sparse "
   ]
  },
  {
   "cell_type": "code",
   "execution_count": 49,
   "metadata": {},
   "outputs": [],
   "source": [
    "class MF(object):\n",
    "    \"\"\"docstring for CF\"\"\"\n",
    "    \n",
    "    def __init__(self, Y_data, K, lam = 0.1, Xinit = None, Winit = None, \n",
    "            learning_rate = 0.5, max_iter = 1000, print_every = 100, user_based = 1):\n",
    "        self.Y_raw_data = Y_data\n",
    "        self.K = K\n",
    "        # regularization parameter\n",
    "        self.lam = lam\n",
    "        # learning rate for gradient descent\n",
    "        self.learning_rate = learning_rate\n",
    "        # maximum number of iterations\n",
    "        self.max_iter = max_iter\n",
    "        # print results after print_every iterations\n",
    "        self.print_every = print_every\n",
    "        # user-based or item-based\n",
    "        self.user_based = user_based\n",
    "        # number of users, items, and ratings. Remember to add 1 since id starts from 0\n",
    "        self.n_users = int(np.max(Y_data[:, 0])) + 1 \n",
    "        self.n_items = int(np.max(Y_data[:, 1])) + 1\n",
    "        self.n_ratings = Y_data.shape[0]\n",
    "        \n",
    "        if Xinit is None: # new\n",
    "            self.X = np.random.randn(self.n_items, K)\n",
    "        else: # or from saved data\n",
    "            self.X = Xinit \n",
    "        \n",
    "        if Winit is None: \n",
    "            self.W = np.random.randn(K, self.n_users)\n",
    "        else: # from daved data\n",
    "            self.W = Winit\n",
    "            \n",
    "        # normalized data, update later in normalized_Y function\n",
    "        self.Y_data_n = self.Y_raw_data.copy()\n",
    "\n",
    "\n",
    "    def normalize_Y(self):\n",
    "        if self.user_based:\n",
    "            user_col = 0\n",
    "            item_col = 1\n",
    "            n_objects = self.n_users\n",
    "\n",
    "        # if we want to normalize based on item, just switch first two columns of data\n",
    "        else: # item bas\n",
    "            user_col = 1\n",
    "            item_col = 0 \n",
    "            n_objects = self.n_items\n",
    "\n",
    "        users = self.Y_raw_data[:, user_col] \n",
    "        self.mu = np.zeros((n_objects,))\n",
    "        for n in range(n_objects):\n",
    "            # row indices of rating done by user n\n",
    "            # since indices need to be integers, we need to convert\n",
    "            ids = np.where(users == n)[0].astype(np.int32)\n",
    "            # indices of all ratings associated with user n\n",
    "            item_ids = self.Y_data_n[ids, item_col] \n",
    "            # and the corresponding ratings \n",
    "            ratings = self.Y_data_n[ids, 2]\n",
    "            # take mean\n",
    "            m = np.mean(ratings) \n",
    "            if np.isnan(m):\n",
    "                m = 0 # to avoid empty array and nan value\n",
    "            self.mu[n] = m\n",
    "            # normalize\n",
    "            self.Y_data_n[ids, 2] = ratings - self.mu[n]\n",
    "    \n",
    "    #Loss function\n",
    "    def loss(self):\n",
    "        L = 0 \n",
    "        for i in range(self.n_ratings):\n",
    "            # user, item, rating\n",
    "            n, m, rate = int(self.Y_data_n[i, 0]), int(self.Y_data_n[i, 1]), self.Y_data_n[i, 2]\n",
    "            L += 0.5*(rate - self.X[m, :].dot(self.W[:, n]))**2\n",
    "        \n",
    "        # take average\n",
    "        L /= self.n_ratings\n",
    "        # regularization, don't ever forget this \n",
    "        L += 0.5*self.lam*(np.linalg.norm(self.X, 'fro') + np.linalg.norm(self.W, 'fro'))\n",
    "        return L \n",
    "    \n",
    "    def get_items_rated_by_user(self, user_id):\n",
    "        \"\"\"\n",
    "        get all items which are rated by user user_id, and the corresponding ratings\n",
    "        \"\"\"\n",
    "        ids = np.where(self.Y_data_n[:,0] == user_id)[0] \n",
    "        item_ids = self.Y_data_n[ids, 1].astype(np.int32) # indices need to be integers\n",
    "        ratings = self.Y_data_n[ids, 2]\n",
    "        return (item_ids, ratings)\n",
    "    \n",
    "    def get_users_who_rate_item(self, item_id):\n",
    "        \"\"\"\n",
    "        get all users who rated item item_id and get the corresponding ratings\n",
    "        \"\"\"\n",
    "        ids = np.where(self.Y_data_n[:,1] == item_id)[0] \n",
    "        user_ids = self.Y_data_n[ids, 0].astype(np.int32)\n",
    "        ratings = self.Y_data_n[ids, 2]\n",
    "        return (user_ids, ratings)\n",
    "    \n",
    "    def get_users_who_rate_item(self, item_id):\n",
    "        \"\"\"\n",
    "        get all users who rated item item_id and get the corresponding ratings\n",
    "        \"\"\"\n",
    "        ids = np.where(self.Y_data_n[:,1] == item_id)[0] \n",
    "        user_ids = self.Y_data_n[ids, 0].astype(np.int32)\n",
    "        ratings = self.Y_data_n[ids, 2]\n",
    "        return (user_ids, ratings)\n",
    "    \n",
    "    def updateX(self):\n",
    "        for m in range(self.n_items):\n",
    "            user_ids, ratings = self.get_users_who_rate_item(m)\n",
    "            Wm = self.W[:, user_ids]\n",
    "            # gradient\n",
    "            grad_xm = -(ratings - self.X[m, :].dot(Wm)).dot(Wm.T)/self.n_ratings + \\\n",
    "                                               self.lam*self.X[m, :]\n",
    "            self.X[m, :] -= self.learning_rate*grad_xm.reshape((self.K,))\n",
    "            \n",
    "            \n",
    "    def updateW(self):\n",
    "        for n in range(self.n_users):\n",
    "            item_ids, ratings = self.get_items_rated_by_user(n)\n",
    "            Xn = self.X[item_ids, :]\n",
    "            # gradient\n",
    "            grad_wn = -Xn.T.dot(ratings - Xn.dot(self.W[:, n]))/self.n_ratings + \\\n",
    "                        self.lam*self.W[:, n]\n",
    "            self.W[:, n] -= self.learning_rate*grad_wn.reshape((self.K,))\n",
    "            \n",
    "            \n",
    "    def fit(self):\n",
    "        self.normalize_Y()\n",
    "        for it in range(self.max_iter):\n",
    "            self.updateX()\n",
    "            self.updateW()\n",
    "            if (it + 1) % self.print_every == 0:\n",
    "                rmse_train = self.evaluate_RMSE(self.Y_raw_data)\n",
    "                print('iter =', it + 1, ', loss =', self.loss(), ', RMSE train =', rmse_train)\n",
    "                \n",
    "                \n",
    "    def pred(self, u, i):\n",
    "        \"\"\" \n",
    "        predict the rating of user u for item i \n",
    "        if you need the un\n",
    "        \"\"\"\n",
    "        u = int(u)\n",
    "        i = int(i)\n",
    "        if self.user_based:\n",
    "            bias = self.mu[u]\n",
    "        else: \n",
    "            bias = self.mu[i]\n",
    "        pred = self.X[i, :].dot(self.W[:, u]) + bias \n",
    "        # truncate if results are out of range [0, 5]\n",
    "        if pred < 0:\n",
    "            return 0 \n",
    "        if pred > 5: \n",
    "            return 5 \n",
    "        return pred \n",
    "    \n",
    "    \n",
    "    def pred_for_user(self, user_id):\n",
    "        \"\"\"\n",
    "        predict ratings one user give all unrated items\n",
    "        \"\"\"\n",
    "        ids = np.where(self.Y_data_n[:, 0] == user_id)[0]\n",
    "        items_rated_by_u = self.Y_data_n[ids, 1].tolist()              \n",
    "        \n",
    "        y_pred = self.X.dot(self.W[:, user_id]) + self.mu[user_id]\n",
    "        predicted_ratings= []\n",
    "        for i in range(self.n_items):\n",
    "            if i not in items_rated_by_u:\n",
    "                predicted_ratings.append((i, y_pred[i]))\n",
    "        \n",
    "        return predicted_ratings\n",
    "    \n",
    "    \n",
    "    def evaluate_RMSE(self, rate_test):\n",
    "        n_tests = rate_test.shape[0]\n",
    "        SE = 0 # squared error\n",
    "        for n in range(n_tests):\n",
    "            pred = self.pred(rate_test[n, 0], rate_test[n, 1])\n",
    "            SE += (pred - rate_test[n, 2])**2 \n",
    "\n",
    "        RMSE = np.sqrt(SE/n_tests)\n",
    "        return RMSE\n",
    "    \n",
    "    \n",
    "    "
   ]
  },
  {
   "cell_type": "markdown",
   "metadata": {},
   "source": [
    "####  100k pandas"
   ]
  },
  {
   "cell_type": "code",
   "execution_count": 64,
   "metadata": {
    "scrolled": true
   },
   "outputs": [
    {
     "name": "stdout",
     "output_type": "stream",
     "text": [
      "CPU times: user 21.7 ms, sys: 3.89 ms, total: 25.6 ms\n",
      "Wall time: 29 ms\n"
     ]
    },
    {
     "name": "stderr",
     "output_type": "stream",
     "text": [
      "/home/suv/anaconda3/lib/python3.7/site-packages/ipykernel_launcher.py:6: FutureWarning: Method .as_matrix will be removed in a future version. Use .values instead.\n",
      "  \n",
      "/home/suv/anaconda3/lib/python3.7/site-packages/ipykernel_launcher.py:7: FutureWarning: Method .as_matrix will be removed in a future version. Use .values instead.\n",
      "  import sys\n"
     ]
    }
   ],
   "source": [
    "%%time\n",
    "r_cols = ['user_id', 'movie_id', 'rating', 'unix_timestamp']\n",
    "\n",
    "ratings_base = pd.read_csv('/home/suv/Documents/dask/dask/DASK/ml-100k/ub.base', sep='\\t', names=r_cols, encoding='latin-1')\n",
    "ratings_test = pd.read_csv('/home/suv/Documents/dask/dask/DASK/ml-100k/ub.test', sep='\\t', names=r_cols, encoding='latin-1')\n",
    "\n",
    "rate_train = ratings_base.as_matrix()\n",
    "rate_test = ratings_test.as_matrix()\n",
    "\n",
    "# indices start from 0\n",
    "rate_train[:, :2] -= 1\n",
    "rate_test[:, :2] -= 1"
   ]
  },
  {
   "cell_type": "markdown",
   "metadata": {},
   "source": [
    "####  Loss function "
   ]
  },
  {
   "cell_type": "code",
   "execution_count": 54,
   "metadata": {},
   "outputs": [
    {
     "name": "stdout",
     "output_type": "stream",
     "text": [
      "iter = 10 , loss = 5.66490804581607 , RMSE train = 1.2138785915220693\n",
      "iter = 20 , loss = 2.6406902841599447 , RMSE train = 1.037996330386298\n",
      "iter = 30 , loss = 1.3438817776655667 , RMSE train = 1.0294649797021116\n",
      "iter = 40 , loss = 0.7531095797655549 , RMSE train = 1.0291944732546747\n",
      "iter = 50 , loss = 0.4823473200704482 , RMSE train = 1.029206577202196\n",
      "iter = 60 , loss = 0.35818187795900575 , RMSE train = 1.0292124645525502\n",
      "iter = 70 , loss = 0.301240230995628 , RMSE train = 1.0292139117325612\n",
      "iter = 80 , loss = 0.2751272087571704 , RMSE train = 1.0292142382081932\n",
      "iter = 90 , loss = 0.26315202415794137 , RMSE train = 1.0292143105552207\n",
      "iter = 100 , loss = 0.2576603304302298 , RMSE train = 1.0292143265029872\n",
      "\n",
      "User-based MF, RMSE = 1.060379895651066\n",
      "CPU times: user 51.8 s, sys: 5.63 s, total: 57.4 s\n",
      "Wall time: 50.5 s\n"
     ]
    }
   ],
   "source": [
    "%%time\n",
    "rs = MF(rate_train, K = 10, lam = .1, print_every = 10, \n",
    "    learning_rate = 0.75, max_iter = 100, user_based = 1)\n",
    "rs.fit()\n",
    "# evaluate on test data\n",
    "RMSE = rs.evaluate_RMSE(rate_test)\n",
    "print('\\nUser-based MF, RMSE =', RMSE)"
   ]
  },
  {
   "cell_type": "code",
   "execution_count": 55,
   "metadata": {},
   "outputs": [
    {
     "name": "stdout",
     "output_type": "stream",
     "text": [
      "iter = 10 , loss = 5.647769502029098 , RMSE train = 1.1799037027250232\n",
      "iter = 20 , loss = 2.626913557341967 , RMSE train = 1.0053051054108957\n",
      "iter = 30 , loss = 1.328451550864264 , RMSE train = 0.996516290178449\n",
      "iter = 40 , loss = 0.7368353199433277 , RMSE train = 0.9961795608274154\n",
      "iter = 50 , loss = 0.46569451538745876 , RMSE train = 0.9961771125860625\n",
      "iter = 60 , loss = 0.3413588150365551 , RMSE train = 0.9961798818375776\n",
      "iter = 70 , loss = 0.2843400140642859 , RMSE train = 0.9961806643561328\n",
      "iter = 80 , loss = 0.25819188275607446 , RMSE train = 0.9961808493230044\n",
      "iter = 90 , loss = 0.2462006897841753 , RMSE train = 0.9961808915541871\n",
      "iter = 100 , loss = 0.24070169022979812 , RMSE train = 0.9961809010941092\n",
      "\n",
      "Item-based MF, RMSE = 1.0498047527866357\n",
      "CPU times: user 54.8 s, sys: 4.86 s, total: 59.7 s\n",
      "Wall time: 54 s\n"
     ]
    }
   ],
   "source": [
    "%%time\n",
    "rs = MF(rate_train, K = 10, lam = .1, print_every = 10, learning_rate = 0.75, max_iter = 100, user_based = 0)\n",
    "rs.fit()\n",
    "# evaluate on test data\n",
    "RMSE = rs.evaluate_RMSE(rate_test)\n",
    "print('\\nItem-based MF, RMSE =', RMSE)"
   ]
  },
  {
   "cell_type": "code",
   "execution_count": 56,
   "metadata": {},
   "outputs": [
    {
     "name": "stdout",
     "output_type": "stream",
     "text": [
      "iter = 10 , loss = 1.1843751235406905 , RMSE train = 1.491829838880295\n",
      "iter = 20 , loss = 1.1177527136978844 , RMSE train = 1.4712797332515726\n",
      "iter = 30 , loss = 1.0584884297666963 , RMSE train = 1.4518733108274333\n",
      "iter = 40 , loss = 1.0055034074978622 , RMSE train = 1.4336306633980247\n",
      "iter = 50 , loss = 0.9579127899928829 , RMSE train = 1.4164811861777777\n",
      "iter = 60 , loss = 0.9149848679464789 , RMSE train = 1.400316052900905\n",
      "iter = 70 , loss = 0.8761099965058639 , RMSE train = 1.3850088926114934\n",
      "iter = 80 , loss = 0.8407766879071231 , RMSE train = 1.3705462731193565\n",
      "iter = 90 , loss = 0.8085530360055262 , RMSE train = 1.3568984241935458\n",
      "iter = 100 , loss = 0.7790721477313914 , RMSE train = 1.343997686418607\n",
      "\n",
      "Item-based MF, RMSE = 1.4389155022656888\n",
      "CPU times: user 51.8 s, sys: 3.9 s, total: 55.7 s\n",
      "Wall time: 51 s\n"
     ]
    }
   ],
   "source": [
    "%%time\n",
    "rs = MF(rate_train, K = 2, lam = 0, print_every = 10, learning_rate = 1, max_iter = 100, user_based = 0)\n",
    "rs.fit()\n",
    "# evaluate on test data\n",
    "RMSE = rs.evaluate_RMSE(rate_test)\n",
    "print('\\nItem-based MF, RMSE =', RMSE)"
   ]
  },
  {
   "cell_type": "markdown",
   "metadata": {},
   "source": [
    "####  1M pandas"
   ]
  },
  {
   "cell_type": "code",
   "execution_count": 61,
   "metadata": {},
   "outputs": [
    {
     "name": "stderr",
     "output_type": "stream",
     "text": [
      "/home/suv/anaconda3/lib/python3.7/site-packages/ipykernel_launcher.py:3: ParserWarning: Falling back to the 'python' engine because the 'c' engine does not support regex separators (separators > 1 char and different from '\\s+' are interpreted as regex); you can avoid this warning by specifying engine='python'.\n",
      "  This is separate from the ipykernel package so we can avoid doing imports until\n"
     ]
    },
    {
     "name": "stdout",
     "output_type": "stream",
     "text": [
      "CPU times: user 4.34 s, sys: 125 ms, total: 4.46 s\n",
      "Wall time: 4.39 s\n"
     ]
    }
   ],
   "source": [
    "%%time \n",
    "r_cols = ['user_id', 'movie_id', 'rating', 'unix_timestamp']\n",
    "\n",
    "ratings_base = pd.read_csv('/home/suv/Documents/dask/dask/DASK/ml-1m/ratings.dat', sep='::', names=r_cols, encoding='latin-1')"
   ]
  },
  {
   "cell_type": "markdown",
   "metadata": {},
   "source": [
    "####  20M pandas"
   ]
  },
  {
   "cell_type": "code",
   "execution_count": 68,
   "metadata": {},
   "outputs": [
    {
     "name": "stdout",
     "output_type": "stream",
     "text": [
      "CPU times: user 10.1 s, sys: 1.17 s, total: 11.3 s\n",
      "Wall time: 11.3 s\n"
     ]
    }
   ],
   "source": [
    "%%time \n",
    "r_cols20 = ['user_id', 'movie_id', 'rating', 'unix_timestamp']\n",
    "\n",
    "ratings_base20 = pd.read_csv('/home/suv/Documents/dask/dask/DASK/ml-20m/rating.csv')"
   ]
  },
  {
   "cell_type": "code",
   "execution_count": 67,
   "metadata": {},
   "outputs": [
    {
     "data": {
      "text/html": [
       "<div>\n",
       "<style scoped>\n",
       "    .dataframe tbody tr th:only-of-type {\n",
       "        vertical-align: middle;\n",
       "    }\n",
       "\n",
       "    .dataframe tbody tr th {\n",
       "        vertical-align: top;\n",
       "    }\n",
       "\n",
       "    .dataframe thead th {\n",
       "        text-align: right;\n",
       "    }\n",
       "</style>\n",
       "<table border=\"1\" class=\"dataframe\">\n",
       "  <thead>\n",
       "    <tr style=\"text-align: right;\">\n",
       "      <th></th>\n",
       "      <th>userId</th>\n",
       "      <th>movieId</th>\n",
       "      <th>rating</th>\n",
       "      <th>timestamp</th>\n",
       "    </tr>\n",
       "  </thead>\n",
       "  <tbody>\n",
       "    <tr>\n",
       "      <td>0</td>\n",
       "      <td>1</td>\n",
       "      <td>2</td>\n",
       "      <td>3.5</td>\n",
       "      <td>2005-04-02 23:53:47</td>\n",
       "    </tr>\n",
       "    <tr>\n",
       "      <td>1</td>\n",
       "      <td>1</td>\n",
       "      <td>29</td>\n",
       "      <td>3.5</td>\n",
       "      <td>2005-04-02 23:31:16</td>\n",
       "    </tr>\n",
       "    <tr>\n",
       "      <td>2</td>\n",
       "      <td>1</td>\n",
       "      <td>32</td>\n",
       "      <td>3.5</td>\n",
       "      <td>2005-04-02 23:33:39</td>\n",
       "    </tr>\n",
       "    <tr>\n",
       "      <td>3</td>\n",
       "      <td>1</td>\n",
       "      <td>47</td>\n",
       "      <td>3.5</td>\n",
       "      <td>2005-04-02 23:32:07</td>\n",
       "    </tr>\n",
       "    <tr>\n",
       "      <td>4</td>\n",
       "      <td>1</td>\n",
       "      <td>50</td>\n",
       "      <td>3.5</td>\n",
       "      <td>2005-04-02 23:29:40</td>\n",
       "    </tr>\n",
       "    <tr>\n",
       "      <td>...</td>\n",
       "      <td>...</td>\n",
       "      <td>...</td>\n",
       "      <td>...</td>\n",
       "      <td>...</td>\n",
       "    </tr>\n",
       "    <tr>\n",
       "      <td>20000258</td>\n",
       "      <td>138493</td>\n",
       "      <td>68954</td>\n",
       "      <td>4.5</td>\n",
       "      <td>2009-11-13 15:42:00</td>\n",
       "    </tr>\n",
       "    <tr>\n",
       "      <td>20000259</td>\n",
       "      <td>138493</td>\n",
       "      <td>69526</td>\n",
       "      <td>4.5</td>\n",
       "      <td>2009-12-03 18:31:48</td>\n",
       "    </tr>\n",
       "    <tr>\n",
       "      <td>20000260</td>\n",
       "      <td>138493</td>\n",
       "      <td>69644</td>\n",
       "      <td>3.0</td>\n",
       "      <td>2009-12-07 18:10:57</td>\n",
       "    </tr>\n",
       "    <tr>\n",
       "      <td>20000261</td>\n",
       "      <td>138493</td>\n",
       "      <td>70286</td>\n",
       "      <td>5.0</td>\n",
       "      <td>2009-11-13 15:42:24</td>\n",
       "    </tr>\n",
       "    <tr>\n",
       "      <td>20000262</td>\n",
       "      <td>138493</td>\n",
       "      <td>71619</td>\n",
       "      <td>2.5</td>\n",
       "      <td>2009-10-17 20:25:36</td>\n",
       "    </tr>\n",
       "  </tbody>\n",
       "</table>\n",
       "<p>20000263 rows × 4 columns</p>\n",
       "</div>"
      ],
      "text/plain": [
       "          userId  movieId  rating            timestamp\n",
       "0              1        2     3.5  2005-04-02 23:53:47\n",
       "1              1       29     3.5  2005-04-02 23:31:16\n",
       "2              1       32     3.5  2005-04-02 23:33:39\n",
       "3              1       47     3.5  2005-04-02 23:32:07\n",
       "4              1       50     3.5  2005-04-02 23:29:40\n",
       "...          ...      ...     ...                  ...\n",
       "20000258  138493    68954     4.5  2009-11-13 15:42:00\n",
       "20000259  138493    69526     4.5  2009-12-03 18:31:48\n",
       "20000260  138493    69644     3.0  2009-12-07 18:10:57\n",
       "20000261  138493    70286     5.0  2009-11-13 15:42:24\n",
       "20000262  138493    71619     2.5  2009-10-17 20:25:36\n",
       "\n",
       "[20000263 rows x 4 columns]"
      ]
     },
     "execution_count": 67,
     "metadata": {},
     "output_type": "execute_result"
    }
   ],
   "source": [
    "ratings_base20"
   ]
  }
 ],
 "metadata": {
  "kernelspec": {
   "display_name": "Python 3",
   "language": "python",
   "name": "python3"
  },
  "language_info": {
   "codemirror_mode": {
    "name": "ipython",
    "version": 3
   },
   "file_extension": ".py",
   "mimetype": "text/x-python",
   "name": "python",
   "nbconvert_exporter": "python",
   "pygments_lexer": "ipython3",
   "version": "3.7.4"
  }
 },
 "nbformat": 4,
 "nbformat_minor": 2
}
